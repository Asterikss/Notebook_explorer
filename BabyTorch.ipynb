{
 "cells": [
  {
   "cell_type": "code",
   "execution_count": 1,
   "id": "d45fa8b2",
   "metadata": {},
   "outputs": [],
   "source": [
    "import torch\n",
    "import torch.nn.functional as F\n",
    "import matplotlib.pyplot as plt\n",
    "%matplotlib inline"
   ]
  },
  {
   "cell_type": "code",
   "execution_count": 2,
   "id": "0ce1e42d",
   "metadata": {},
   "outputs": [
    {
     "name": "stdout",
     "output_type": "stream",
     "text": [
      "32033\n",
      "15\n",
      "['emma', 'olivia', 'ava', 'isabella', 'sophia', 'charlotte', 'mia', 'amelia', 'harper', 'evelyn']\n"
     ]
    }
   ],
   "source": [
    "words = open(\"data/names.txt\", \"r\").read().splitlines()\n",
    "print(len(words))\n",
    "print(max(len(w) for w in words))\n",
    "print(words[:10])"
   ]
  },
  {
   "cell_type": "code",
   "execution_count": 3,
   "id": "c4dd4fcb",
   "metadata": {},
   "outputs": [
    {
     "name": "stdout",
     "output_type": "stream",
     "text": [
      "{1: 'a', 2: 'b', 3: 'c', 4: 'd', 5: 'e', 6: 'f', 7: 'g', 8: 'h', 9: 'i', 10: 'j', 11: 'k', 12: 'l', 13: 'm', 14: 'n', 15: 'o', 16: 'p', 17: 'q', 18: 'r', 19: 's', 20: 't', 21: 'u', 22: 'v', 23: 'w', 24: 'x', 25: 'y', 26: 'z', 0: '.'}\n",
      "27\n"
     ]
    }
   ],
   "source": [
    "chars = sorted(list(set(''.join(words))))\n",
    "s_to_i = {s:i+1 for i,s in enumerate(chars)}\n",
    "s_to_i['.'] = 0\n",
    "i_to_s = {i:s for s,i in s_to_i.items()}\n",
    "vocab_size = len(i_to_s)\n",
    "print(i_to_s)\n",
    "print(vocab_size)"
   ]
  },
  {
   "cell_type": "code",
   "execution_count": 4,
   "id": "77d2e247",
   "metadata": {},
   "outputs": [],
   "source": [
    "import random\n",
    "random.seed(42)\n",
    "random.shuffle(words)"
   ]
  },
  {
   "cell_type": "code",
   "execution_count": 5,
   "id": "19dda840",
   "metadata": {},
   "outputs": [
    {
     "name": "stdout",
     "output_type": "stream",
     "text": [
      "torch.Size([182625, 3]) torch.Size([182625])\n",
      "torch.Size([22655, 3]) torch.Size([22655])\n",
      "torch.Size([22866, 3]) torch.Size([22866])\n"
     ]
    }
   ],
   "source": [
    "# dataset\n",
    "block_size = 3 # context length\n",
    "def build_dataset(words):  \n",
    "  X, Y = [], []\n",
    "  \n",
    "  for w in words:\n",
    "    context = [0] * block_size\n",
    "    for ch in w + '.':\n",
    "      ix = s_to_i[ch]\n",
    "      X.append(context)\n",
    "      Y.append(ix)\n",
    "      context = context[1:] + [ix]\n",
    "\n",
    "  X = torch.tensor(X)\n",
    "  Y = torch.tensor(Y)\n",
    "  print(X.shape, Y.shape)\n",
    "  return X, Y\n",
    "\n",
    "n1 = int(0.8*len(words))\n",
    "n2 = int(0.9*len(words))\n",
    "Xtr,  Ytr  = build_dataset(words[:n1]) # 0.8\n",
    "Xdev, Ydev = build_dataset(words[n1:n2]) # 0.1\n",
    "Xte,  Yte  = build_dataset(words[n2:]) # 0.1"
   ]
  },
  {
   "cell_type": "code",
   "execution_count": 6,
   "id": "ab356197",
   "metadata": {},
   "outputs": [
    {
     "data": {
      "text/plain": [
       "25"
      ]
     },
     "execution_count": 6,
     "metadata": {},
     "output_type": "execute_result"
    }
   ],
   "source": [
    "Xtr[:3][1][2].item()"
   ]
  },
  {
   "cell_type": "code",
   "execution_count": 7,
   "id": "dd60b8dd",
   "metadata": {},
   "outputs": [
    {
     "data": {
      "text/plain": [
       "tensor([[ 0,  0,  0],\n",
       "        [ 0,  0, 25],\n",
       "        [ 0, 25, 21]])"
      ]
     },
     "execution_count": 7,
     "metadata": {},
     "output_type": "execute_result"
    }
   ],
   "source": [
    "Xtr[:3]"
   ]
  },
  {
   "cell_type": "code",
   "execution_count": 8,
   "id": "776e3c54",
   "metadata": {},
   "outputs": [
    {
     "name": "stdout",
     "output_type": "stream",
     "text": [
      "... --> y\n",
      "..y --> u\n",
      ".yu --> h\n",
      "yuh --> e\n",
      "uhe --> n\n",
      "hen --> g\n",
      "eng --> .\n",
      "... --> d\n",
      "..d --> i\n",
      ".di --> o\n",
      "dio --> n\n",
      "ion --> d\n",
      "ond --> r\n",
      "ndr --> e\n",
      "dre --> .\n",
      "... --> x\n",
      "..x --> a\n",
      ".xa --> v\n",
      "xav --> i\n",
      "avi --> e\n"
     ]
    }
   ],
   "source": [
    "for x,y in zip(Xtr[:20], Ytr[:20]):\n",
    "  print(''.join(i_to_s[ix.item()] for ix in x), '-->', i_to_s[y.item()])"
   ]
  },
  {
   "cell_type": "code",
   "execution_count": 25,
   "id": "d5ade4a9",
   "metadata": {},
   "outputs": [],
   "source": [
    "class Linear:\n",
    "  __slots__ = \"weights\", \"bias\", \"out\"\n",
    "  \n",
    "  def __init__(self, n_in, n_out, bias=True):\n",
    "    self.weights = torch.randn((n_in, n_out)) / n_in**0.5 # kaiming init\n",
    "    self.bias = torch.zeros(n_out) if bias else None\n",
    "    \n",
    "  def __call__(self, x):\n",
    "    self.out = x @ self.weights\n",
    "    if self.bias is not None:\n",
    "      self.out += self.bias # in what exact way does it fail when it's + insted of +=\n",
    "    return self.out\n",
    "  \n",
    "  def parameters(self):\n",
    "    return [self.weights] + ([] if self.bias is None else [self.bias])\n",
    "\n",
    "\n",
    "class BatchNorm1d:\n",
    "  __slots__ = \"eps\", \"momentum\", \"training\", \"gamma\", \"beta\", \"running_mean\", \"running_var\", \"out\"\n",
    "    \n",
    "  def __init__(self, dim, eps=1e-5, momentum=0.1):\n",
    "    self.eps = eps\n",
    "    self.momentum = momentum\n",
    "    self.training = True\n",
    "    # param\n",
    "    self.gamma = torch.ones(dim)\n",
    "    self.beta = torch.zeros(dim)\n",
    "    # buffers\n",
    "    self.running_mean = torch.zeros(dim)\n",
    "    self.running_var = torch.ones(dim)\n",
    "    \n",
    "  def __call__(self, x):\n",
    "    if self.training:\n",
    "      xmean = x.mean(0, keepdim=True) # batch mean\n",
    "      xvar = x.var(0, keepdim=True) # batch variance\n",
    "    else:\n",
    "      xmean = self.running_mean\n",
    "      xvar = self.running_var\n",
    "    \n",
    "    xhat = (x - xmean) / (xvar - self.eps) # norm to unit variance\n",
    "    self.out = self.gamma * xhat + self.beta\n",
    "    \n",
    "    if self.training:\n",
    "      with torch.no_grad():\n",
    "        #print(\"once?\")\n",
    "        self.running_mean = (1 - self.momentum) * self.running_mean + self.momentum * xmean\n",
    "        self.running_var = (1 - self.momentum) * self.running_var + self.momentum * xvar\n",
    "    return self.out\n",
    "  \n",
    "  def parameters(self):\n",
    "    return [self.gamma, self.beta]\n",
    "    \n",
    "    \n",
    "class Tanh:\n",
    "  def __call__(self, x):\n",
    "    self.out = torch.tanh(x)\n",
    "    return self.out\n",
    "  \n",
    "  def parameters(self):\n",
    "    return []\n",
    "  \n",
    "  \n",
    "class Embedding:\n",
    "  __slots__ = \"weights\", \"out\"\n",
    "\n",
    "  def __init__(self, num_embds, embd_dim):\n",
    "    self.weights = torch.randn((num_embds, embd_dim))\n",
    "    \n",
    "  def __call__(self, Ix):\n",
    "    self.out = self.weights[Ix]\n",
    "    return self.out\n",
    "  \n",
    "  def parameters(self):\n",
    "    return [self.weights]\n",
    "  \n",
    "class Flatten:\n",
    "  __slots__ = \"out\"\n",
    "\n",
    "  def __call__(self, X: 'Tensor'):\n",
    "    self.out = X.view(X.shape[0], -1)\n",
    "    return self.out\n",
    "  \n",
    "  def parameters(self):\n",
    "    return []\n",
    "  \n",
    "class Sequential:\n",
    "  __slots__ = \"layers\", \"out\"\n",
    "\n",
    "  def __init__(self, layers: list):\n",
    "    self.layers = layers\n",
    "    \n",
    "  def __call__(self, x: 'Tensor'):\n",
    "    for layer in self.layers:\n",
    "      x = layer(x)\n",
    "    self.out = x\n",
    "    return self.out\n",
    "  \n",
    "  def parameters(self):\n",
    "    return [p for layer in self.layers for p in layer.parameters()]"
   ]
  },
  {
   "cell_type": "code",
   "execution_count": 9,
   "id": "e85fd818",
   "metadata": {},
   "outputs": [],
   "source": [
    "torch.manual_seed(42);"
   ]
  },
  {
   "cell_type": "code",
   "execution_count": 26,
   "id": "ae08384e",
   "metadata": {},
   "outputs": [
    {
     "name": "stdout",
     "output_type": "stream",
     "text": [
      "12097\n"
     ]
    }
   ],
   "source": [
    "n_embd = 10\n",
    "n_hidden = 200\n",
    "\n",
    "model = Sequential([\n",
    "  Embedding(vocab_size, n_embd),\n",
    "  Flatten(),\n",
    "  Linear(n_embd * block_size, n_hidden, bias=False), BatchNorm1d(n_hidden), Tanh(),\n",
    "  Linear(n_hidden, vocab_size)\n",
    "])\n",
    "\n",
    "with torch.no_grad():\n",
    "  model.layers[-1].weights *= 0.1\n",
    "\n",
    "parameters = model.parameters()\n",
    "\n",
    "print(sum(p.nelement() for p in parameters))\n",
    "\n",
    "for p in parameters:\n",
    "  p.requires_grad = True"
   ]
  },
  {
   "cell_type": "code",
   "execution_count": 32,
   "id": "be7d0f6f",
   "metadata": {},
   "outputs": [
    {
     "name": "stdout",
     "output_type": "stream",
     "text": [
      "      0 /   10000 - 2.1619\n",
      "   4000 /   10000 - 2.4826\n",
      "   8000 /   10000 - 2.3534\n"
     ]
    },
    {
     "data": {
      "text/plain": [
       "2.207428455352783"
      ]
     },
     "execution_count": 32,
     "metadata": {},
     "output_type": "execute_result"
    }
   ],
   "source": [
    "#max_steps = 200_000\n",
    "max_steps = 10_000\n",
    "batch_size = 32\n",
    "lossi = []\n",
    "\n",
    "for layer in model.layers:\n",
    "    if hasattr(layer, 'training'):\n",
    "        layer.training = True\n",
    "\n",
    "for i in range(max_steps):\n",
    "  ix = torch.randint(0, Xtr.shape[0], (batch_size,))\n",
    "  Xb, Yb = Xtr[ix], Ytr[ix]\n",
    "  \n",
    "  logits = model(Xb)\n",
    "  loss = F.cross_entropy(logits, Yb)\n",
    "  \n",
    "  for p in parameters:\n",
    "    p.grad = None\n",
    "\n",
    "  loss.backward()\n",
    "  \n",
    "  lr = 0.1 if i < 150_000 else 0.01\n",
    "  for p in parameters:\n",
    "    p.data -= lr * p.grad\n",
    "\n",
    "  #if i % 10_000 == 0:\n",
    "  if i % 4_000 == 0:\n",
    "    print(f\"{i:7d} / {max_steps:7d} - {loss.item():.4f}\")\n",
    "  lossi.append(loss.log10().item())\n",
    "\n",
    "loss.item()"
   ]
  },
  {
   "cell_type": "code",
   "execution_count": 29,
   "id": "d59b60d7",
   "metadata": {},
   "outputs": [
    {
     "data": {
      "text/plain": [
       "[<matplotlib.lines.Line2D at 0x7f21ee0a01f0>]"
      ]
     },
     "execution_count": 29,
     "metadata": {},
     "output_type": "execute_result"
    },
    {
     "data": {
      "image/png": "[encoded data removed]",
      "text/plain": [
       "<Figure size 640x480 with 1 Axes>"
      ]
     },
     "metadata": {},
     "output_type": "display_data"
    }
   ],
   "source": [
    "plt.plot(lossi)"
   ]
  },
  {
   "cell_type": "code",
   "execution_count": 30,
   "id": "3151fa5d",
   "metadata": {},
   "outputs": [
    {
     "data": {
      "text/plain": [
       "[<matplotlib.lines.Line2D at 0x7f21ed369780>]"
      ]
     },
     "execution_count": 30,
     "metadata": {},
     "output_type": "execute_result"
    },
    {
     "data": {
      "image/png": "[encoded data removed]",
      "text/plain": [
       "<Figure size 640x480 with 1 Axes>"
      ]
     },
     "metadata": {},
     "output_type": "display_data"
    }
   ],
   "source": [
    "plt.plot(torch.tensor(lossi).view(-1, 1000).mean(1))"
   ]
  },
  {
   "cell_type": "code",
   "execution_count": 33,
   "id": "4701bcfd",
   "metadata": {},
   "outputs": [],
   "source": [
    "for layer in model.layers:\n",
    "    if hasattr(layer, 'training'):\n",
    "        layer.training = False"
   ]
  },
  {
   "cell_type": "code",
   "execution_count": 34,
   "id": "19d7bc65",
   "metadata": {},
   "outputs": [
    {
     "name": "stdout",
     "output_type": "stream",
     "text": [
      "False\n"
     ]
    }
   ],
   "source": [
    "for layer in model.layers:\n",
    "    if hasattr(layer, 'training'):\n",
    "        print(layer.training)"
   ]
  },
  {
   "cell_type": "code",
   "execution_count": 35,
   "id": "22d66896",
   "metadata": {},
   "outputs": [
    {
     "name": "stdout",
     "output_type": "stream",
     "text": [
      "train 2.2387542724609375\n",
      "val 2.2577435970306396\n"
     ]
    }
   ],
   "source": [
    "# eval\n",
    "@torch.no_grad()\n",
    "def split_loss(split):\n",
    "  x, y = {\n",
    "    'train': (Xtr, Ytr),\n",
    "    'val': (Xdev, Ydev),\n",
    "    'teset': (Xte, Yte)\n",
    "  }[split]\n",
    "  \n",
    "  logits = model(x)\n",
    "  loss = F.cross_entropy(logits, y)\n",
    "  \n",
    "  print(split, loss.item())\n",
    "  \n",
    "split_loss('train')\n",
    "split_loss('val')"
   ]
  },
  {
   "cell_type": "code",
   "execution_count": 36,
   "id": "cde44a19",
   "metadata": {},
   "outputs": [
    {
     "name": "stdout",
     "output_type": "stream",
     "text": [
      "natte.\n",
      "matah.\n",
      "ruzaileighapevlenya.\n",
      "kassincie.\n",
      "syn.\n",
      "han.\n",
      "quina.\n",
      "lizgerick.\n",
      "jroth.\n",
      "enarielianiyanayaren.\n",
      "rholin.\n",
      "bran.\n",
      "ana.\n",
      "sevie.\n",
      "kylen.\n",
      "bsen.\n",
      "fingelians.\n",
      "rathika.\n",
      "matas.\n",
      "raylina.\n"
     ]
    }
   ],
   "source": [
    "for _ in range(20):\n",
    "  out = []\n",
    "  context = [0] * block_size\n",
    "  while True:\n",
    "    logits = model(torch.tensor([context]))\n",
    "    probs = F.softmax(logits, dim=1)\n",
    "    \n",
    "    ix = torch.multinomial(probs, num_samples=1).item()\n",
    "    \n",
    "    context = context[1:] + [ix]\n",
    "    out.append(ix)\n",
    "    if ix == 0:\n",
    "      break\n",
    "    \n",
    "  print(\"\".join(i_to_s[ch] for ch in out))"
   ]
  }
 ],
 "metadata": {
  "kernelspec": {
   "display_name": "Python 3 (ipykernel)",
   "language": "python",
   "name": "python3"
  },
  "language_info": {
   "codemirror_mode": {
    "name": "ipython",
    "version": 3
   },
   "file_extension": ".py",
   "mimetype": "text/x-python",
   "name": "python",
   "nbconvert_exporter": "python",
   "pygments_lexer": "ipython3",
   "version": "3.10.13"
  }
 },
 "nbformat": 4,
 "nbformat_minor": 5
}
