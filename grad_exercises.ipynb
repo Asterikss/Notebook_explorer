{
 "cells": [
  {
   "cell_type": "markdown",
   "metadata": {
    "id": "OFt6NKOz6iBZ"
   },
   "source": [
    "## derivatives"
   ]
  },
  {
   "cell_type": "code",
   "execution_count": 34,
   "metadata": {
    "id": "3Jx9fCXl5xHd"
   },
   "outputs": [
    {
     "name": "stdout",
     "output_type": "stream",
     "text": [
      "6.336362190988558\n"
     ]
    }
   ],
   "source": [
    "from math import sin, cos\n",
    "\n",
    "def f(a, b, c):\n",
    "  return -a**3 + sin(3*b) - 1.0/c + b**2.5 - a**0.5\n",
    "\n",
    "print(f(2, 3, 4))"
   ]
  },
  {
   "cell_type": "code",
   "execution_count": 17,
   "metadata": {
    "id": "qXaH59eL9zxf"
   },
   "outputs": [
    {
     "name": "stdout",
     "output_type": "stream",
     "text": [
      "OK for dim 0: expected -12.353553390593273, yours returns -12.353553390593273\n",
      "OK for dim 1: expected 10.25699027111255, yours returns 10.25699027111255\n",
      "OK for dim 2: expected 0.0625, yours returns 0.0625\n"
     ]
    }
   ],
   "source": [
    "# analytical gradient\n",
    "def gradf(a, b, c):\n",
    "  # [df/da, df/db, df/dc]\n",
    "  first = -3*a**2 - 0.5*a**-0.5\n",
    "  second = cos(3*b) * b + 2.5*b**1.5\n",
    "  third = 1*c**-2\n",
    "  return [first, second, third]\n",
    "\n",
    "\n",
    "ans = [-12.353553390593273, 10.25699027111255, 0.0625]\n",
    "yours = gradf(2, 3, 4)\n",
    "for dim in range(3):\n",
    "  ok = 'OK' if abs(yours[dim] - ans[dim]) < 1e-5 else 'WRONG!'\n",
    "  print(f\"{ok} for dim {dim}: expected {ans[dim]}, yours returns {yours[dim]}\")\n"
   ]
  },
  {
   "cell_type": "code",
   "execution_count": 18,
   "metadata": {
    "id": "_27n-KTA9Qla"
   },
   "outputs": [
    {
     "name": "stdout",
     "output_type": "stream",
     "text": [
      "OK for dim 0: expected -12.353553390593273, yours returns -12.353553966448771\n",
      "OK for dim 1: expected 10.25699027111255, yours returns 10.256990385926201\n",
      "OK for dim 2: expected 0.0625, yours returns 0.06249999628948899\n"
     ]
    }
   ],
   "source": [
    "# estimate the gradient numerically\n",
    "h = 0.0000001\n",
    "a = 2\n",
    "b = 3\n",
    "c = 4\n",
    "grad_a = (f(a+h, b, c) - f(a, b, c)) / h\n",
    "grad_b = (f(a, b+h, c) - f(a, b, c)) / h\n",
    "grad_c = (f(a, b, c+h) - f(a, b, c)) / h\n",
    "\n",
    "# -----------\n",
    "numerical_grad = [grad_a, grad_b, grad_c]\n",
    "# -----------\n",
    "\n",
    "for dim in range(3):\n",
    "  ok = 'OK' if abs(numerical_grad[dim] - ans[dim]) < 1e-5 else 'WRONG!'\n",
    "  print(f\"{ok} for dim {dim}: expected {ans[dim]}, yours returns {numerical_grad[dim]}\")\n"
   ]
  },
  {
   "cell_type": "code",
   "execution_count": 29,
   "metadata": {
    "id": "BUqsGb5o_h2P"
   },
   "outputs": [
    {
     "name": "stdout",
     "output_type": "stream",
     "text": [
      "OK for dim 0: expected -12.353553390593273, yours returns -12.353553380251014\n",
      "OK for dim 1: expected 10.25699027111255, yours returns 10.256990252699438\n",
      "OK for dim 2: expected 0.0625, yours returns 0.06250000073038109\n"
     ]
    }
   ],
   "source": [
    "# there is an alternative formula that provides a much better numerical\n",
    "# approximation to the derivative of a function.\n",
    "# https://en.wikipedia.org/wiki/Symmetric_derivative\n",
    "h = 0.0000001\n",
    "a = 2.0\n",
    "b = 3.0\n",
    "c = 4.0\n",
    "grad2_a = (f(a+h, b, c) - f(a-h, b, c)) / (2*h)\n",
    "grad2_b = (f(a, b+h, c) - f(a, b-h, c)) / (2*h)\n",
    "grad2_c = (f(a, b, c+h) - f(a, b, c-h)) / (2*h)\n",
    "\n",
    "# -----------\n",
    "numerical_grad2 = [grad2_a, grad2_b, grad2_c]\n",
    "# -----------\n",
    "\n",
    "for dim in range(3):\n",
    "  ok = 'OK' if abs(numerical_grad2[dim] - ans[dim]) < 1e-5 else 'WRONG!'\n",
    "  print(f\"{ok} for dim {dim}: expected {ans[dim]}, yours returns {numerical_grad2[dim]}\")\n"
   ]
  },
  {
   "cell_type": "markdown",
   "metadata": {
    "id": "tklF9s_4AtlI"
   },
   "source": [
    "## support for softmax"
   ]
  },
  {
   "cell_type": "code",
   "execution_count": 82,
   "metadata": {
    "id": "nAPe_RVrCTeO"
   },
   "outputs": [],
   "source": [
    "from math import exp, log\n",
    "\n",
    "class Value:\n",
    "\n",
    "  def __init__(self, data, _children=(), _op='', label=''):\n",
    "    self.data = data\n",
    "    self.grad = 0.0\n",
    "    self._backward = lambda: None\n",
    "    self._prev = set(_children)\n",
    "    self._op = _op\n",
    "    self.label = label\n",
    "\n",
    "    \n",
    "  def __repr__(self):\n",
    "    return f\"Value(data={self.data})\"\n",
    "\n",
    "  \n",
    "  def __add__(self, other):\n",
    "    other = other if isinstance(other, Value) else Value(other)\n",
    "    out = Value(self.data + other.data, (self, other), '+')\n",
    "\n",
    "    def _backward():\n",
    "      self.grad += 1.0 * out.grad\n",
    "      other.grad += 1.0 * out.grad\n",
    "    out._backward = _backward\n",
    "\n",
    "    return out\n",
    "\n",
    "  def __mul__(self, other):\n",
    "    other = other if isinstance(other, Value) else Value(other)\n",
    "    out = Value(self.data * other.data, (self, other), label=\"*\")\n",
    "    \n",
    "    def _backward():\n",
    "      self.grad += other.data * out.grad\n",
    "      other.grad += self.data * out.grad  \n",
    "    out._backward = _backward\n",
    "    \n",
    "    return out\n",
    "  \n",
    "  \n",
    "  def __radd__(self, other):\n",
    "    return self + other\n",
    "  \n",
    "  \n",
    "  def exp(self):\n",
    "    x = exp(self.data)\n",
    "    out = Value(x, (self, ), label=f'e**{x}')\n",
    "    \n",
    "    def _backward():\n",
    "      self.grad += x * out.grad\n",
    "    out._backward = _backward\n",
    "    \n",
    "    return out\n",
    "  \n",
    "  \n",
    "  def __pow__(self, other):\n",
    "    assert isinstance(other, (int, float)), 'int or float expeted for __pow__'\n",
    "    out = Value(self.data**other, (self, ), label=f'{self.data}**{other}')\n",
    "    def _backward():\n",
    "      self.grad +=  other * (self.data**(other-1)) * out.grad\n",
    "    out._backward = _backward\n",
    "    return out\n",
    "  \n",
    "  \n",
    "  def __truediv__(self, other):\n",
    "    return self * (other**-1)\n",
    "  \n",
    "  \n",
    "  def log(self):\n",
    "    out = Value(log(self.data), (self, ), label='log')\n",
    "    def _backward():\n",
    "      self.grad += (self.data**-1) * out.grad\n",
    "    out._backward = _backward\n",
    "    return out\n",
    "    \n",
    "  def __neg__(self):\n",
    "    return self * -1\n",
    " \n",
    "\n",
    "  def backward(self):\n",
    "    topo = []\n",
    "    visited = set()\n",
    "    def build_topo(v):\n",
    "      if v not in visited:\n",
    "        visited.add(v)\n",
    "        for child in v._prev:\n",
    "          build_topo(child)\n",
    "        topo.append(v)\n",
    "    build_topo(self)\n",
    "\n",
    "    self.grad = 1.0\n",
    "    for node in reversed(topo):\n",
    "      node._backward()"
   ]
  },
  {
   "cell_type": "code",
   "execution_count": 81,
   "metadata": {
    "id": "VgWvwVQNAvnI"
   },
   "outputs": [
    {
     "name": "stdout",
     "output_type": "stream",
     "text": [
      "[Value(data=0.04177257051535045), Value(data=0.839024507462532), Value(data=0.00565330266221633), Value(data=0.11354961935990122)]\n",
      "2.1755153626167147\n",
      "OK for dim 0: expected 0.041772570515350445, yours returns 0.041772570515350445\n",
      "OK for dim 1: expected 0.8390245074625319, yours returns 0.8390245074625319\n",
      "OK for dim 2: expected 0.005653302662216329, yours returns 0.005653302662216329\n",
      "OK for dim 3: expected -0.8864503806400986, yours returns -0.8864503806400986\n"
     ]
    }
   ],
   "source": [
    "# instead of the squared error loss this implements the negative log likelihood\n",
    "# loss, which is very often used in classification.\n",
    "\n",
    "def softmax(logits):\n",
    "  counts = [logit.exp() for logit in logits]\n",
    "  denominator = sum(counts)\n",
    "  out = [c / denominator for c in counts]\n",
    "  return out\n",
    "\n",
    "# this is the negative log likelihood loss function, pervasive in classification\n",
    "logits = [Value(0.0), Value(3.0), Value(-2.0), Value(1.0)]\n",
    "probs = softmax(logits)\n",
    "loss = -probs[3].log() # dim 3 acts as the label for this input example\n",
    "loss.backward()\n",
    "print(probs)\n",
    "print(loss.data)\n",
    "\n",
    "ans = [0.041772570515350445, 0.8390245074625319, 0.005653302662216329, -0.8864503806400986]\n",
    "for dim in range(4):\n",
    "  ok = 'OK' if abs(logits[dim].grad - ans[dim]) < 1e-5 else 'WRONG!'\n",
    "  print(f\"{ok} for dim {dim}: expected {ans[dim]}, yours returns {logits[dim].grad}\")\n"
   ]
  },
  {
   "cell_type": "code",
   "execution_count": 71,
   "metadata": {},
   "outputs": [
    {
     "name": "stdout",
     "output_type": "stream",
     "text": [
      "-2.1755153626167147\n",
      "0.11354961935000005\n"
     ]
    }
   ],
   "source": [
    "print(log(0.11354961935990122))\n",
    "print(math.e ** -2.1755153627039117)\n"
   ]
  },
  {
   "cell_type": "code",
   "execution_count": 79,
   "metadata": {
    "id": "q7ca1SVAGG1S"
   },
   "outputs": [
    {
     "name": "stdout",
     "output_type": "stream",
     "text": [
      "[tensor([0.0418], dtype=torch.float64, grad_fn=<DivBackward0>), tensor([0.8390], dtype=torch.float64, grad_fn=<DivBackward0>), tensor([0.0057], dtype=torch.float64, grad_fn=<DivBackward0>), tensor([0.1135], dtype=torch.float64, grad_fn=<DivBackward0>)]\n",
      "2.1755153626167147\n",
      "OK for dim 0: expected 0.041772570515350445, yours returns tensor([0.0418], dtype=torch.float64)\n",
      "OK for dim 1: expected 0.8390245074625319, yours returns tensor([0.8390], dtype=torch.float64)\n",
      "OK for dim 2: expected 0.005653302662216329, yours returns tensor([0.0057], dtype=torch.float64)\n",
      "OK for dim 3: expected -0.8864503806400986, yours returns tensor([-0.8865], dtype=torch.float64)\n"
     ]
    }
   ],
   "source": [
    "# verify the gradient using the torch\n",
    "import torch\n",
    "\n",
    "x1 = torch.Tensor([0.0]).double() ; x1.requires_grad = True\n",
    "x2 = torch.Tensor([3.0]).double() ; x2.requires_grad = True\n",
    "x3 = torch.Tensor([-2.0]).double() ; x3.requires_grad = True\n",
    "x4 = torch.Tensor([1.0]).double() ; x4.requires_grad = True\n",
    "logits = [x1, x2, x3, x4]\n",
    "probs = softmax(logits)\n",
    "loss = -probs[3].log()\n",
    "print(probs)\n",
    "print(loss.item())\n",
    "loss.backward()\n",
    "\n",
    "ns = [0.041772570515350445, 0.8390245074625319, 0.005653302662216329, -0.8864503806400986]\n",
    "for dim in range(4):\n",
    "  ok = 'OK' if abs(logits[dim].grad - ans[dim]) < 1e-5 else 'WRONG!'\n",
    "  print(f\"{ok} for dim {dim}: expected {ans[dim]}, yours returns {logits[dim].grad}\")"
   ]
  }
 ],
 "metadata": {
  "colab": {
   "provenance": []
  },
  "kernelspec": {
   "display_name": "Python 3 (ipykernel)",
   "language": "python",
   "name": "python3"
  },
  "language_info": {
   "codemirror_mode": {
    "name": "ipython",
    "version": 3
   },
   "file_extension": ".py",
   "mimetype": "text/x-python",
   "name": "python",
   "nbconvert_exporter": "python",
   "pygments_lexer": "ipython3",
   "version": "3.10.13"
  }
 },
 "nbformat": 4,
 "nbformat_minor": 1
}
