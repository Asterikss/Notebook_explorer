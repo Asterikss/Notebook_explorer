{
 "cells": [
  {
   "cell_type": "code",
   "execution_count": 1,
   "id": "408f912c",
   "metadata": {},
   "outputs": [],
   "source": [
    "import torch\n",
    "import torch.nn.functional as F\n",
    "import matplotlib.pyplot as plt\n",
    "%matplotlib inline"
   ]
  },
  {
   "cell_type": "code",
   "execution_count": 2,
   "id": "d2f736f6",
   "metadata": {},
   "outputs": [],
   "source": [
    "with open(\"data/names.txt\", 'r') as f:\n",
    "  words = f.read().splitlines()"
   ]
  },
  {
   "cell_type": "code",
   "execution_count": 4,
   "id": "5eab3bdc",
   "metadata": {},
   "outputs": [],
   "source": [
    "chars = sorted(list(set(''.join(words))))\n",
    "s_to_i = {s:i+1 for i,s in enumerate(chars)}\n",
    "s_to_i['.'] = 0\n",
    "i_to_s = {i:s for s,i in s_to_i.items()}"
   ]
  },
  {
   "cell_type": "code",
   "execution_count": 85,
   "id": "4c6f5b57",
   "metadata": {},
   "outputs": [],
   "source": [
    "block_size = 3\n",
    "X, Y = [], []\n",
    "for w in words:\n",
    "  #print(w)\n",
    "  context = [0] * block_size\n",
    "  for ch in w + '.':\n",
    "    ix = s_to_i[ch]\n",
    "    X.append(context)\n",
    "    Y.append(ix)\n",
    "    #print(\"\".join(i_to_s[i] for i in context), \"->\", i_to_s[ix])\n",
    "    #context[0] = context[1]\n",
    "    #context[1] = context[2]\n",
    "    #context[2] = ix\n",
    "    context = context[1:] + [ix]\n",
    "    \n",
    "X = torch.tensor(X)\n",
    "Y = torch.tensor(Y)"
   ]
  },
  {
   "cell_type": "code",
   "execution_count": 113,
   "id": "03cf0265",
   "metadata": {},
   "outputs": [
    {
     "name": "stdout",
     "output_type": "stream",
     "text": [
      "torch.Size([182562, 3]) torch.Size([182562])\n",
      "torch.Size([22807, 3]) torch.Size([22807])\n",
      "torch.Size([22777, 3]) torch.Size([22777])\n"
     ]
    }
   ],
   "source": [
    "def build_dataset(words):\n",
    "  block_size = 3\n",
    "  X, Y = [], []\n",
    "  for w in words:\n",
    "    #print(w)\n",
    "    context = [0] * block_size\n",
    "    for ch in w + '.':\n",
    "      ix = s_to_i[ch]\n",
    "      X.append(context)\n",
    "      Y.append(ix)\n",
    "      #print(\"\".join(i_to_s[i] for i in context), \"->\", i_to_s[ix])\n",
    "      #context[0] = context[1]\n",
    "      #context[1] = context[2]\n",
    "      #context[2] = ix\n",
    "      context = context[1:] + [ix]\n",
    "\n",
    "  X = torch.tensor(X)\n",
    "  Y = torch.tensor(Y)\n",
    "  print(X.shape, Y.shape)\n",
    "  return X, Y\n",
    "\n",
    "import random\n",
    "random.shuffle(words)\n",
    "n1 = int(0.8 * len(words))\n",
    "n2 = int(0.9 * len(words))\n",
    "\n",
    "Xtr, Ytr = build_dataset(words[:n1])\n",
    "Xdev, Ydev = build_dataset(words[n1:n2])\n",
    "Xtest, Ytest = build_dataset(words[n2:])\n",
    "\n",
    "\n"
   ]
  },
  {
   "cell_type": "code",
   "execution_count": 14,
   "id": "a5ac6a3e",
   "metadata": {},
   "outputs": [],
   "source": [
    "C = torch.randn((27, 2))"
   ]
  },
  {
   "cell_type": "code",
   "execution_count": null,
   "id": "7e297b49",
   "metadata": {},
   "outputs": [],
   "source": [
    "# C[5]   C[[5, 6]]   C[torch.tensor([5, 6])]"
   ]
  },
  {
   "cell_type": "code",
   "execution_count": 30,
   "id": "a5507881",
   "metadata": {},
   "outputs": [
    {
     "data": {
      "text/plain": [
       "tensor([[ 0,  0,  0],\n",
       "        [ 0,  0,  5],\n",
       "        [ 0,  5, 13],\n",
       "        [ 5, 13, 13],\n",
       "        [13, 13,  1],\n",
       "        [ 0,  0,  0],\n",
       "        [ 0,  0, 15],\n",
       "        [ 0, 15, 12],\n",
       "        [15, 12,  9],\n",
       "        [12,  9, 22],\n",
       "        [ 9, 22,  9],\n",
       "        [22,  9,  1],\n",
       "        [ 0,  0,  0],\n",
       "        [ 0,  0,  1],\n",
       "        [ 0,  1, 22],\n",
       "        [ 1, 22,  1],\n",
       "        [ 0,  0,  0],\n",
       "        [ 0,  0,  9],\n",
       "        [ 0,  9, 19],\n",
       "        [ 9, 19,  1],\n",
       "        [19,  1,  2],\n",
       "        [ 1,  2,  5],\n",
       "        [ 2,  5, 12],\n",
       "        [ 5, 12, 12],\n",
       "        [12, 12,  1],\n",
       "        [ 0,  0,  0],\n",
       "        [ 0,  0, 19],\n",
       "        [ 0, 19, 15],\n",
       "        [19, 15, 16],\n",
       "        [15, 16,  8],\n",
       "        [16,  8,  9],\n",
       "        [ 8,  9,  1]])"
      ]
     },
     "execution_count": 30,
     "metadata": {},
     "output_type": "execute_result"
    }
   ],
   "source": [
    "X"
   ]
  },
  {
   "cell_type": "code",
   "execution_count": 31,
   "id": "5622d084",
   "metadata": {},
   "outputs": [
    {
     "data": {
      "text/plain": [
       "tensor(0)"
      ]
     },
     "execution_count": 31,
     "metadata": {},
     "output_type": "execute_result"
    }
   ],
   "source": [
    "X[0, 0]"
   ]
  },
  {
   "cell_type": "code",
   "execution_count": 32,
   "id": "1af082af",
   "metadata": {},
   "outputs": [
    {
     "data": {
      "text/plain": [
       "tensor([0.9187, 0.7791])"
      ]
     },
     "execution_count": 32,
     "metadata": {},
     "output_type": "execute_result"
    }
   ],
   "source": [
    "C[0]"
   ]
  },
  {
   "cell_type": "code",
   "execution_count": 33,
   "id": "b9505dd2",
   "metadata": {},
   "outputs": [
    {
     "data": {
      "text/plain": [
       "tensor([0.9187, 0.7791])"
      ]
     },
     "execution_count": 33,
     "metadata": {},
     "output_type": "execute_result"
    }
   ],
   "source": [
    "C[X[0, 0]]"
   ]
  },
  {
   "cell_type": "code",
   "execution_count": 34,
   "id": "d9aff7b5",
   "metadata": {},
   "outputs": [
    {
     "data": {
      "text/plain": [
       "tensor([0.9187, 0.7791])"
      ]
     },
     "execution_count": 34,
     "metadata": {},
     "output_type": "execute_result"
    }
   ],
   "source": [
    "C[X][0, 0]"
   ]
  },
  {
   "cell_type": "code",
   "execution_count": 35,
   "id": "3d04e506",
   "metadata": {},
   "outputs": [
    {
     "data": {
      "text/plain": [
       "tensor([[[ 0.9187,  0.7791],\n",
       "         [ 0.9187,  0.7791],\n",
       "         [ 0.9187,  0.7791]],\n",
       "\n",
       "        [[ 0.9187,  0.7791],\n",
       "         [ 0.9187,  0.7791],\n",
       "         [ 0.6389, -1.3597]],\n",
       "\n",
       "        [[ 0.9187,  0.7791],\n",
       "         [ 0.6389, -1.3597],\n",
       "         [-0.6063, -0.4680]],\n",
       "\n",
       "        [[ 0.6389, -1.3597],\n",
       "         [-0.6063, -0.4680],\n",
       "         [-0.6063, -0.4680]],\n",
       "\n",
       "        [[-0.6063, -0.4680],\n",
       "         [-0.6063, -0.4680],\n",
       "         [ 0.2914, -1.7724]],\n",
       "\n",
       "        [[ 0.9187,  0.7791],\n",
       "         [ 0.9187,  0.7791],\n",
       "         [ 0.9187,  0.7791]],\n",
       "\n",
       "        [[ 0.9187,  0.7791],\n",
       "         [ 0.9187,  0.7791],\n",
       "         [ 0.6085,  0.4212]],\n",
       "\n",
       "        [[ 0.9187,  0.7791],\n",
       "         [ 0.6085,  0.4212],\n",
       "         [-0.1190, -0.5710]],\n",
       "\n",
       "        [[ 0.6085,  0.4212],\n",
       "         [-0.1190, -0.5710],\n",
       "         [ 0.0918,  0.9060]],\n",
       "\n",
       "        [[-0.1190, -0.5710],\n",
       "         [ 0.0918,  0.9060],\n",
       "         [-0.4273,  0.8745]],\n",
       "\n",
       "        [[ 0.0918,  0.9060],\n",
       "         [-0.4273,  0.8745],\n",
       "         [ 0.0918,  0.9060]],\n",
       "\n",
       "        [[-0.4273,  0.8745],\n",
       "         [ 0.0918,  0.9060],\n",
       "         [ 0.2914, -1.7724]],\n",
       "\n",
       "        [[ 0.9187,  0.7791],\n",
       "         [ 0.9187,  0.7791],\n",
       "         [ 0.9187,  0.7791]],\n",
       "\n",
       "        [[ 0.9187,  0.7791],\n",
       "         [ 0.9187,  0.7791],\n",
       "         [ 0.2914, -1.7724]],\n",
       "\n",
       "        [[ 0.9187,  0.7791],\n",
       "         [ 0.2914, -1.7724],\n",
       "         [-0.4273,  0.8745]],\n",
       "\n",
       "        [[ 0.2914, -1.7724],\n",
       "         [-0.4273,  0.8745],\n",
       "         [ 0.2914, -1.7724]],\n",
       "\n",
       "        [[ 0.9187,  0.7791],\n",
       "         [ 0.9187,  0.7791],\n",
       "         [ 0.9187,  0.7791]],\n",
       "\n",
       "        [[ 0.9187,  0.7791],\n",
       "         [ 0.9187,  0.7791],\n",
       "         [ 0.0918,  0.9060]],\n",
       "\n",
       "        [[ 0.9187,  0.7791],\n",
       "         [ 0.0918,  0.9060],\n",
       "         [-0.9999,  2.0911]],\n",
       "\n",
       "        [[ 0.0918,  0.9060],\n",
       "         [-0.9999,  2.0911],\n",
       "         [ 0.2914, -1.7724]],\n",
       "\n",
       "        [[-0.9999,  2.0911],\n",
       "         [ 0.2914, -1.7724],\n",
       "         [-0.2637, -0.1810]],\n",
       "\n",
       "        [[ 0.2914, -1.7724],\n",
       "         [-0.2637, -0.1810],\n",
       "         [ 0.6389, -1.3597]],\n",
       "\n",
       "        [[-0.2637, -0.1810],\n",
       "         [ 0.6389, -1.3597],\n",
       "         [-0.1190, -0.5710]],\n",
       "\n",
       "        [[ 0.6389, -1.3597],\n",
       "         [-0.1190, -0.5710],\n",
       "         [-0.1190, -0.5710]],\n",
       "\n",
       "        [[-0.1190, -0.5710],\n",
       "         [-0.1190, -0.5710],\n",
       "         [ 0.2914, -1.7724]],\n",
       "\n",
       "        [[ 0.9187,  0.7791],\n",
       "         [ 0.9187,  0.7791],\n",
       "         [ 0.9187,  0.7791]],\n",
       "\n",
       "        [[ 0.9187,  0.7791],\n",
       "         [ 0.9187,  0.7791],\n",
       "         [-0.9999,  2.0911]],\n",
       "\n",
       "        [[ 0.9187,  0.7791],\n",
       "         [-0.9999,  2.0911],\n",
       "         [ 0.6085,  0.4212]],\n",
       "\n",
       "        [[-0.9999,  2.0911],\n",
       "         [ 0.6085,  0.4212],\n",
       "         [-1.1910,  1.7556]],\n",
       "\n",
       "        [[ 0.6085,  0.4212],\n",
       "         [-1.1910,  1.7556],\n",
       "         [ 0.0593, -0.3186]],\n",
       "\n",
       "        [[-1.1910,  1.7556],\n",
       "         [ 0.0593, -0.3186],\n",
       "         [ 0.0918,  0.9060]],\n",
       "\n",
       "        [[ 0.0593, -0.3186],\n",
       "         [ 0.0918,  0.9060],\n",
       "         [ 0.2914, -1.7724]]])"
      ]
     },
     "execution_count": 35,
     "metadata": {},
     "output_type": "execute_result"
    }
   ],
   "source": [
    "C[X]"
   ]
  },
  {
   "cell_type": "code",
   "execution_count": 36,
   "id": "0751b4b2",
   "metadata": {},
   "outputs": [
    {
     "data": {
      "text/plain": [
       "torch.Size([32, 3, 2])"
      ]
     },
     "execution_count": 36,
     "metadata": {},
     "output_type": "execute_result"
    }
   ],
   "source": [
    "emb = C[X]\n",
    "emb.shape"
   ]
  },
  {
   "cell_type": "code",
   "execution_count": null,
   "id": "80e42041",
   "metadata": {},
   "outputs": [],
   "source": [
    "#W1 = torch.randn((6, 100))\n",
    "#b1 = torch.randn(100)\n",
    "# emb @ W + b1 does not work yet"
   ]
  },
  {
   "cell_type": "code",
   "execution_count": 40,
   "id": "3be839b6",
   "metadata": {},
   "outputs": [
    {
     "data": {
      "text/plain": [
       "torch.Size([32, 6])"
      ]
     },
     "execution_count": 40,
     "metadata": {},
     "output_type": "execute_result"
    }
   ],
   "source": [
    "torch.cat([emb[:, 0, :], emb[:, 1, :], emb[:, 2, :]], 1).shape"
   ]
  },
  {
   "cell_type": "code",
   "execution_count": 42,
   "id": "8bb77b2f",
   "metadata": {},
   "outputs": [
    {
     "data": {
      "text/plain": [
       "torch.Size([32, 6])"
      ]
     },
     "execution_count": 42,
     "metadata": {},
     "output_type": "execute_result"
    }
   ],
   "source": [
    "torch.cat(torch.unbind(emb, 1), 1).shape"
   ]
  },
  {
   "cell_type": "code",
   "execution_count": 43,
   "id": "faaf7e68",
   "metadata": {},
   "outputs": [
    {
     "data": {
      "text/plain": [
       "tensor([[ 0.9187,  0.7791,  0.9187,  0.7791,  0.9187,  0.7791],\n",
       "        [ 0.9187,  0.7791,  0.9187,  0.7791,  0.6389, -1.3597],\n",
       "        [ 0.9187,  0.7791,  0.6389, -1.3597, -0.6063, -0.4680],\n",
       "        [ 0.6389, -1.3597, -0.6063, -0.4680, -0.6063, -0.4680],\n",
       "        [-0.6063, -0.4680, -0.6063, -0.4680,  0.2914, -1.7724],\n",
       "        [ 0.9187,  0.7791,  0.9187,  0.7791,  0.9187,  0.7791],\n",
       "        [ 0.9187,  0.7791,  0.9187,  0.7791,  0.6085,  0.4212],\n",
       "        [ 0.9187,  0.7791,  0.6085,  0.4212, -0.1190, -0.5710],\n",
       "        [ 0.6085,  0.4212, -0.1190, -0.5710,  0.0918,  0.9060],\n",
       "        [-0.1190, -0.5710,  0.0918,  0.9060, -0.4273,  0.8745],\n",
       "        [ 0.0918,  0.9060, -0.4273,  0.8745,  0.0918,  0.9060],\n",
       "        [-0.4273,  0.8745,  0.0918,  0.9060,  0.2914, -1.7724],\n",
       "        [ 0.9187,  0.7791,  0.9187,  0.7791,  0.9187,  0.7791],\n",
       "        [ 0.9187,  0.7791,  0.9187,  0.7791,  0.2914, -1.7724],\n",
       "        [ 0.9187,  0.7791,  0.2914, -1.7724, -0.4273,  0.8745],\n",
       "        [ 0.2914, -1.7724, -0.4273,  0.8745,  0.2914, -1.7724],\n",
       "        [ 0.9187,  0.7791,  0.9187,  0.7791,  0.9187,  0.7791],\n",
       "        [ 0.9187,  0.7791,  0.9187,  0.7791,  0.0918,  0.9060],\n",
       "        [ 0.9187,  0.7791,  0.0918,  0.9060, -0.9999,  2.0911],\n",
       "        [ 0.0918,  0.9060, -0.9999,  2.0911,  0.2914, -1.7724],\n",
       "        [-0.9999,  2.0911,  0.2914, -1.7724, -0.2637, -0.1810],\n",
       "        [ 0.2914, -1.7724, -0.2637, -0.1810,  0.6389, -1.3597],\n",
       "        [-0.2637, -0.1810,  0.6389, -1.3597, -0.1190, -0.5710],\n",
       "        [ 0.6389, -1.3597, -0.1190, -0.5710, -0.1190, -0.5710],\n",
       "        [-0.1190, -0.5710, -0.1190, -0.5710,  0.2914, -1.7724],\n",
       "        [ 0.9187,  0.7791,  0.9187,  0.7791,  0.9187,  0.7791],\n",
       "        [ 0.9187,  0.7791,  0.9187,  0.7791, -0.9999,  2.0911],\n",
       "        [ 0.9187,  0.7791, -0.9999,  2.0911,  0.6085,  0.4212],\n",
       "        [-0.9999,  2.0911,  0.6085,  0.4212, -1.1910,  1.7556],\n",
       "        [ 0.6085,  0.4212, -1.1910,  1.7556,  0.0593, -0.3186],\n",
       "        [-1.1910,  1.7556,  0.0593, -0.3186,  0.0918,  0.9060],\n",
       "        [ 0.0593, -0.3186,  0.0918,  0.9060,  0.2914, -1.7724]])"
      ]
     },
     "execution_count": 43,
     "metadata": {},
     "output_type": "execute_result"
    }
   ],
   "source": [
    "emb.view(32, 6)"
   ]
  },
  {
   "cell_type": "code",
   "execution_count": 45,
   "id": "08627f36",
   "metadata": {},
   "outputs": [
    {
     "data": {
      "text/plain": [
       "tensor([[True, True, True, True, True, True],\n",
       "        [True, True, True, True, True, True],\n",
       "        [True, True, True, True, True, True],\n",
       "        [True, True, True, True, True, True],\n",
       "        [True, True, True, True, True, True],\n",
       "        [True, True, True, True, True, True],\n",
       "        [True, True, True, True, True, True],\n",
       "        [True, True, True, True, True, True],\n",
       "        [True, True, True, True, True, True],\n",
       "        [True, True, True, True, True, True],\n",
       "        [True, True, True, True, True, True],\n",
       "        [True, True, True, True, True, True],\n",
       "        [True, True, True, True, True, True],\n",
       "        [True, True, True, True, True, True],\n",
       "        [True, True, True, True, True, True],\n",
       "        [True, True, True, True, True, True],\n",
       "        [True, True, True, True, True, True],\n",
       "        [True, True, True, True, True, True],\n",
       "        [True, True, True, True, True, True],\n",
       "        [True, True, True, True, True, True],\n",
       "        [True, True, True, True, True, True],\n",
       "        [True, True, True, True, True, True],\n",
       "        [True, True, True, True, True, True],\n",
       "        [True, True, True, True, True, True],\n",
       "        [True, True, True, True, True, True],\n",
       "        [True, True, True, True, True, True],\n",
       "        [True, True, True, True, True, True],\n",
       "        [True, True, True, True, True, True],\n",
       "        [True, True, True, True, True, True],\n",
       "        [True, True, True, True, True, True],\n",
       "        [True, True, True, True, True, True],\n",
       "        [True, True, True, True, True, True]])"
      ]
     },
     "execution_count": 45,
     "metadata": {},
     "output_type": "execute_result"
    }
   ],
   "source": [
    "emb.view(32, 6) == torch.cat(torch.unbind(emb, 1), 1)"
   ]
  },
  {
   "cell_type": "code",
   "execution_count": 46,
   "id": "87a0cd13",
   "metadata": {},
   "outputs": [],
   "source": [
    "W1 = torch.randn((6, 100))\n",
    "b1 = torch.randn(100)"
   ]
  },
  {
   "cell_type": "code",
   "execution_count": 48,
   "id": "8a0451b4",
   "metadata": {},
   "outputs": [
    {
     "name": "stdout",
     "output_type": "stream",
     "text": [
      "torch.Size([32, 100])\n"
     ]
    }
   ],
   "source": [
    "h = torch.tanh(emb.view(emb.shape[0], 6) @ W1 + b1)\n",
    "print(h.shape)\n",
    "# emb.view(-1, 6) @ W + b1\n",
    "# 32, 100\n",
    "#  1, 100"
   ]
  },
  {
   "cell_type": "code",
   "execution_count": 55,
   "id": "efe7615c",
   "metadata": {},
   "outputs": [],
   "source": [
    "W2 = torch.randn((100, 27))\n",
    "b2 = torch.randn(27)"
   ]
  },
  {
   "cell_type": "code",
   "execution_count": 57,
   "id": "ac6f40c0",
   "metadata": {},
   "outputs": [],
   "source": [
    "logits = h @ W2 + b2"
   ]
  },
  {
   "cell_type": "code",
   "execution_count": 60,
   "id": "d5d0588a",
   "metadata": {},
   "outputs": [],
   "source": [
    "counts = logits.exp()\n",
    "probs = counts / counts.sum(1, keepdims=True)"
   ]
  },
  {
   "cell_type": "code",
   "execution_count": 63,
   "id": "732bb2c3",
   "metadata": {},
   "outputs": [
    {
     "data": {
      "text/plain": [
       "(torch.Size([32, 27]), tensor(1.))"
      ]
     },
     "execution_count": 63,
     "metadata": {},
     "output_type": "execute_result"
    }
   ],
   "source": [
    "probs.shape, probs[0].sum()"
   ]
  },
  {
   "cell_type": "code",
   "execution_count": 67,
   "id": "15165568",
   "metadata": {},
   "outputs": [],
   "source": [
    "loss = -probs[torch.arange(32), Y].log().mean()"
   ]
  },
  {
   "cell_type": "code",
   "execution_count": 68,
   "id": "96466e7a",
   "metadata": {},
   "outputs": [
    {
     "data": {
      "text/plain": [
       "tensor(16.8739)"
      ]
     },
     "execution_count": 68,
     "metadata": {},
     "output_type": "execute_result"
    }
   ],
   "source": [
    "loss"
   ]
  },
  {
   "cell_type": "code",
   "execution_count": null,
   "id": "57aa653e",
   "metadata": {},
   "outputs": [],
   "source": [
    "##"
   ]
  },
  {
   "cell_type": "code",
   "execution_count": 114,
   "id": "53dc2be7",
   "metadata": {},
   "outputs": [
    {
     "data": {
      "text/plain": [
       "(torch.Size([182562, 3]), torch.Size([182562]))"
      ]
     },
     "execution_count": 114,
     "metadata": {},
     "output_type": "execute_result"
    }
   ],
   "source": [
    "Xtr.shape, Ytr.shape"
   ]
  },
  {
   "cell_type": "code",
   "execution_count": 122,
   "id": "d85a78a4",
   "metadata": {},
   "outputs": [],
   "source": [
    "#g = torch.Generator().manual_seed(420)\n",
    "#C = torch.randn((27, 2), generator=g)\n",
    "#W1 = torch.randn((6, 100), generator=g)\n",
    "#b1 = torch.randn(100, generator=g)\n",
    "#W2 = torch.randn((100, 27), generator=g)\n",
    "#b2 = torch.randn(27, generator=g)\n",
    "#parameters = [C, W1, b1, W2, b2]"
   ]
  },
  {
   "cell_type": "code",
   "execution_count": 142,
   "id": "95d8e450",
   "metadata": {},
   "outputs": [],
   "source": [
    "g = torch.Generator().manual_seed(420)\n",
    "C = torch.randn((27, 10), generator=g)\n",
    "W1 = torch.randn((30, 300), generator=g)\n",
    "b1 = torch.randn(300, generator=g)\n",
    "W2 = torch.randn((300, 27), generator=g)\n",
    "b2 = torch.randn(27, generator=g)\n",
    "parameters = [C, W1, b1, W2, b2]"
   ]
  },
  {
   "cell_type": "code",
   "execution_count": 143,
   "id": "31be74aa",
   "metadata": {},
   "outputs": [
    {
     "data": {
      "text/plain": [
       "17697"
      ]
     },
     "execution_count": 143,
     "metadata": {},
     "output_type": "execute_result"
    }
   ],
   "source": [
    "sum(p.nelement() for p in parameters)"
   ]
  },
  {
   "cell_type": "code",
   "execution_count": 144,
   "id": "e4f68e75",
   "metadata": {},
   "outputs": [],
   "source": [
    "for p in parameters:\n",
    "  p.requires_grad = True"
   ]
  },
  {
   "cell_type": "code",
   "execution_count": 106,
   "id": "962f8b85",
   "metadata": {},
   "outputs": [],
   "source": [
    "# reasonable lr < 1, < 0.001\n",
    "# torch.linspace(0.001, 1, 1000) # does not make sense to go through the sapce lineary\n",
    "lre = torch.linspace(-3, 0, 1000)\n",
    "lrs = 10**lre\n",
    "#lrs"
   ]
  },
  {
   "cell_type": "code",
   "execution_count": 145,
   "id": "f5c02f9d",
   "metadata": {},
   "outputs": [],
   "source": [
    "lri = []\n",
    "lossi = []\n",
    "stepi = []\n",
    "lr = 0.1"
   ]
  },
  {
   "cell_type": "code",
   "execution_count": 146,
   "id": "7abdc2e4",
   "metadata": {},
   "outputs": [
    {
     "name": "stdout",
     "output_type": "stream",
     "text": [
      "1.9813215732574463\n"
     ]
    }
   ],
   "source": [
    "lr = 0.1\n",
    "for i in range(100_000):\n",
    "  \n",
    "  # minibach\n",
    "  ix = torch.randint(0, Xtr.shape[0], (100,))\n",
    "  \n",
    "  # forward\n",
    "  emb = C[Xtr[ix]]\n",
    "  h = torch.tanh(emb.view(-1, 30) @ W1 + b1) # used to be -1, 6\n",
    "  logits = h @ W2 + b2\n",
    "\n",
    "  #counts = logits.exp()\n",
    "  #probs = counts / counts.sum(1, keepdim=True)\n",
    "  #loss = -probs[torch.arange(32), Y].log().mean()\n",
    "  loss = F.cross_entropy(logits, Ytr[ix])\n",
    "  #print(loss.item())\n",
    "  \n",
    "  # backward\n",
    "  for p in parameters:\n",
    "    p.grad = None\n",
    "  loss.backward()\n",
    "\n",
    "  # update\n",
    "  #lr = lrs[i]\n",
    "  if i == 50_000:\n",
    "    lr = 0.02\n",
    "  if i == 90_000:\n",
    "    lr = 0.01\n",
    "  for p in parameters:\n",
    "    p.data -= lr * p.grad\n",
    "    \n",
    "  #lri.append(lre[i])\n",
    "  lossi.append(loss.log10().item())\n",
    "  stepi.append(i)\n",
    "print(loss.item())"
   ]
  },
  {
   "cell_type": "code",
   "execution_count": 141,
   "id": "c345689e",
   "metadata": {},
   "outputs": [
    {
     "data": {
      "text/plain": [
       "[<matplotlib.lines.Line2D at 0x7f9dbdba2fe0>]"
      ]
     },
     "execution_count": 141,
     "metadata": {},
     "output_type": "execute_result"
    },
    {
     "data": {
      "image/png": "[encoded data removed]",
      "text/plain": [
       "<Figure size 640x480 with 1 Axes>"
      ]
     },
     "metadata": {},
     "output_type": "display_data"
    }
   ],
   "source": [
    "plt.plot(stepi, lossi)"
   ]
  },
  {
   "cell_type": "code",
   "execution_count": null,
   "id": "be020493",
   "metadata": {},
   "outputs": [],
   "source": [
    "logits.max(1), Y"
   ]
  },
  {
   "cell_type": "code",
   "execution_count": 108,
   "id": "9e5c5103",
   "metadata": {},
   "outputs": [
    {
     "data": {
      "text/plain": [
       "[<matplotlib.lines.Line2D at 0x7f9dce832710>]"
      ]
     },
     "execution_count": 108,
     "metadata": {},
     "output_type": "execute_result"
    },
    {
     "data": {
      "image/png": "[encoded data removed]",
      "text/plain": [
       "<Figure size 640x480 with 1 Axes>"
      ]
     },
     "metadata": {},
     "output_type": "display_data"
    }
   ],
   "source": [
    "plt.plot(lri, lossi)"
   ]
  },
  {
   "cell_type": "code",
   "execution_count": 147,
   "id": "83f461b2",
   "metadata": {},
   "outputs": [
    {
     "data": {
      "text/plain": [
       "tensor(2.1916, grad_fn=<NllLossBackward0>)"
      ]
     },
     "execution_count": 147,
     "metadata": {},
     "output_type": "execute_result"
    }
   ],
   "source": [
    "emb = C[Xdev]\n",
    "h = torch.tanh(emb.view(-1, 30) @ W1 + b1)\n",
    "logits = h @ W2 + b2\n",
    "loss = F.cross_entropy(logits, Ydev)\n",
    "loss"
   ]
  },
  {
   "cell_type": "code",
   "execution_count": 129,
   "id": "82b5c10e",
   "metadata": {},
   "outputs": [
    {
     "data": {
      "image/png": "[encoded data removed]",
      "text/plain": [
       "<Figure size 800x800 with 1 Axes>"
      ]
     },
     "metadata": {},
     "output_type": "display_data"
    }
   ],
   "source": [
    "plt.figure(figsize=(8,8))\n",
    "plt.scatter(C[:,0].data, C[:,1].data, s=200)\n",
    "for i in range(C.shape[0]):\n",
    "  plt.text(C[i,0].item(), C[i,1].item(), i_to_s[i], ha=\"center\", va=\"center\", color=\"white\")\n",
    "plt.grid('minor')"
   ]
  },
  {
   "cell_type": "code",
   "execution_count": 149,
   "id": "e1747e45",
   "metadata": {},
   "outputs": [
    {
     "name": "stdout",
     "output_type": "stream",
     "text": [
      "heightyn.\n",
      "belliyah.\n",
      "zas.\n",
      "lesta.\n",
      "katen.\n",
      "xon.\n",
      "saibuen.\n",
      "erson.\n",
      "daya.\n",
      "kolauer.\n",
      "jonna.\n",
      "jamina.\n",
      "dax.\n",
      "lulel.\n",
      "chimane.\n",
      "cam.\n",
      "arjelyn.\n",
      "micharena.\n",
      "pawstairah.\n",
      "mich.\n"
     ]
    }
   ],
   "source": [
    "g = torch.Generator().manual_seed(420)\n",
    "\n",
    "for _ in range(20):\n",
    "    \n",
    "    out = []\n",
    "    context = [0] * block_size # initialize with all ...\n",
    "    while True:\n",
    "      emb = C[torch.tensor([context])] # (1,block_size,d)\n",
    "      h = torch.tanh(emb.view(1, -1) @ W1 + b1)\n",
    "      logits = h @ W2 + b2\n",
    "      probs = F.softmax(logits, dim=1)\n",
    "      ix = torch.multinomial(probs, num_samples=1, generator=g).item()\n",
    "      context = context[1:] + [ix]\n",
    "      out.append(ix)\n",
    "      if ix == 0:\n",
    "        break\n",
    "    \n",
    "    print(''.join(i_to_s[i] for i in out))"
   ]
  }
 ],
 "metadata": {
  "kernelspec": {
   "display_name": "Python 3 (ipykernel)",
   "language": "python",
   "name": "python3"
  },
  "language_info": {
   "codemirror_mode": {
    "name": "ipython",
    "version": 3
   },
   "file_extension": ".py",
   "mimetype": "text/x-python",
   "name": "python",
   "nbconvert_exporter": "python",
   "pygments_lexer": "ipython3",
   "version": "3.10.13"
  }
 },
 "nbformat": 4,
 "nbformat_minor": 5
}
