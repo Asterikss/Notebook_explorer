{
 "cells": [
  {
   "cell_type": "code",
   "execution_count": null,
   "id": "6dfae7b5",
   "metadata": {},
   "outputs": [],
   "source": [
    "import math\n",
    "import numpy as np\n",
    "import matplotlib.pyplot as plt\n",
    "%matplotlib inline"
   ]
  },
  {
   "cell_type": "code",
   "execution_count": null,
   "id": "c8897300",
   "metadata": {},
   "outputs": [],
   "source": [
    "def f(x):\n",
    "    return 3*x**2 - 4*x + 5"
   ]
  },
  {
   "cell_type": "code",
   "execution_count": null,
   "id": "02bf7ff0",
   "metadata": {},
   "outputs": [],
   "source": [
    "f(3.0)"
   ]
  },
  {
   "cell_type": "code",
   "execution_count": null,
   "id": "53687110",
   "metadata": {},
   "outputs": [],
   "source": [
    "xs = np.arange(-5, 5, 0.25)\n",
    "xs\n",
    "ys = f(xs)\n",
    "ys\n",
    "plt.plot(xs, ys)"
   ]
  },
  {
   "cell_type": "code",
   "execution_count": null,
   "id": "f3d19251",
   "metadata": {},
   "outputs": [],
   "source": [
    "h = 0.000001\n",
    "x = 2/3\n",
    "(f(x + h) - f(x)) / h"
   ]
  },
  {
   "cell_type": "code",
   "execution_count": null,
   "id": "30d92372",
   "metadata": {},
   "outputs": [],
   "source": [
    "a = 2.0\n",
    "b = -3.0\n",
    "c = 10.0\n",
    "d = a*b + c\n",
    "print(d)"
   ]
  },
  {
   "cell_type": "code",
   "execution_count": null,
   "id": "5ee41f55",
   "metadata": {},
   "outputs": [],
   "source": [
    "h = 0.00001\n",
    "a = 2.0\n",
    "b = -3.0\n",
    "c = 10.0\n",
    "\n",
    "d1 = a*b + c\n",
    "\n",
    "c += h\n",
    "d2 = a*b + c\n",
    "\n",
    "print(f'{d1 = }')\n",
    "print(f'{d2 = }')\n",
    "print(f'slope {(d2 - d1)/h}')\n"
   ]
  },
  {
   "cell_type": "code",
   "execution_count": 127,
   "id": "7b57bd26",
   "metadata": {},
   "outputs": [],
   "source": [
    "class Value:\n",
    "    def __init__(self, data, _children=(), _op=\"\", label=\"\"):\n",
    "        self.data = data\n",
    "        self.grad = 0.0\n",
    "        self._backward = lambda: None\n",
    "        self._prev = set(_children)\n",
    "        self._op = _op\n",
    "        self.label = label\n",
    "        \n",
    "    \n",
    "    def __repr__(self):\n",
    "        return f\"Value(data = {self.data})\"\n",
    "    \n",
    "    def __add__(self, other):\n",
    "        other = other if isinstance(other, Value) else Value(other)\n",
    "        out =  Value(self.data + other.data, (self, other), \"+\")\n",
    "        def _backward():\n",
    "            self.grad += 1.0 * out.grad\n",
    "            other.grad += 1.0 * out.grad\n",
    "        out._backward = _backward\n",
    "        return out\n",
    "    \n",
    "    # sum() does not work without it even for two Values\n",
    "    def __radd__(self, other):\n",
    "        return self + other\n",
    "    \n",
    "    def __mul__(self, other):\n",
    "        other = other if isinstance(other, Value) else Value(other)\n",
    "        out = Value(self.data * other.data, (self, other), \"*\")\n",
    "        def _backward():\n",
    "            self.grad += other.data * out.grad\n",
    "            other.grad += self.data * out.grad\n",
    "        out._backward = _backward\n",
    "        return out\n",
    "    \n",
    "    def __rmul__(self, other):\n",
    "        return self * other\n",
    "\n",
    "    def __pow__(self, other):\n",
    "        assert isinstance(other, (int, float)), \"only sup for int/float powers\"\n",
    "        out = Value(self.data**other, (self, ), f'**{other}')\n",
    "        def _backward():\n",
    "            self.grad += other * (self.data**(other-1)) * out.grad\n",
    "        \n",
    "        out._backward = _backward\n",
    "        return out\n",
    "    \n",
    "    def __truediv__(self, other):\n",
    "        return self * other**-1\n",
    "    \n",
    "    def __neg__(self):\n",
    "        return self * -1\n",
    "    \n",
    "    def __sub__(self, other):\n",
    "        return self + (-other)\n",
    "    \n",
    "    def __rsub__(self, other):\n",
    "        return (-self) + other\n",
    "    \n",
    "    def tanh(self):\n",
    "        x = self.data\n",
    "        t = (math.exp(2*x) - 1)/(math.exp(2*x) + 1)\n",
    "        out =  Value(t, (self,), 'tanh')\n",
    "        def _backward():\n",
    "            self.grad += (1 - t**2) * out.grad\n",
    "        out._backward = _backward\n",
    "        \n",
    "        return out\n",
    "    \n",
    "    def exp(self):\n",
    "        x = self.data\n",
    "        out = Value(math.exp(x), (self, ), 'exp')\n",
    "        def _backward():\n",
    "            self.grad += out.data * out.grad\n",
    "        out._backward = _backward\n",
    "        return out\n",
    "    \n",
    "    def backward(self):\n",
    "        topo = []\n",
    "        visited = set()\n",
    "        def built_topo(v):\n",
    "            if v not in visited:\n",
    "                visited.add(v)\n",
    "                for kid in v._prev:\n",
    "                    built_topo(kid)\n",
    "                topo.append(v)\n",
    "        built_topo(self)\n",
    "        \n",
    "        self.grad = 1.0\n",
    "        for node in reversed(topo):\n",
    "            node._backward()\n",
    "        "
   ]
  },
  {
   "cell_type": "code",
   "execution_count": null,
   "id": "d5803e3d",
   "metadata": {},
   "outputs": [],
   "source": [
    "a = Value(2.0)\n",
    "b = Value(4.0)\n",
    "a - b"
   ]
  },
  {
   "cell_type": "code",
   "execution_count": null,
   "id": "0d6c477a",
   "metadata": {},
   "outputs": [],
   "source": [
    "a = Value(2.0, label = \"a\")\n",
    "b = Value(-3.0, label = \"b\")\n",
    "c = Value(10.0, label = \"c\")\n",
    "e = a*b; e.label = 'e'\n",
    "d = e + c; d.label = 'd'\n",
    "f = Value(-2.0, label = 'f')\n",
    "L = d * f; L.label = 'L'\n",
    "L"
   ]
  },
  {
   "cell_type": "code",
   "execution_count": null,
   "id": "32dd2c26",
   "metadata": {},
   "outputs": [],
   "source": [
    "d._prev\n",
    "d._op"
   ]
  },
  {
   "cell_type": "code",
   "execution_count": null,
   "id": "eb9acf89",
   "metadata": {},
   "outputs": [],
   "source": [
    "from graphviz import Digraph"
   ]
  },
  {
   "cell_type": "code",
   "execution_count": null,
   "id": "0656c225",
   "metadata": {},
   "outputs": [],
   "source": [
    "def trace(root):\n",
    "    nodes, edges = set(), set()\n",
    "    def built(v):\n",
    "        if v not in nodes:\n",
    "            nodes.add(v)\n",
    "            for child in v._prev:\n",
    "                edges.add((child, v))\n",
    "                built(child)\n",
    "    built(root)\n",
    "    return nodes, edges"
   ]
  },
  {
   "cell_type": "code",
   "execution_count": null,
   "id": "61572e1a",
   "metadata": {},
   "outputs": [],
   "source": [
    "def draw_dot(root):\n",
    "    dot = Digraph(format='svg', graph_attr={'rankdir': 'LR'})  # LR = left to right\n",
    "    \n",
    "    nodes, edges = trace(root)\n",
    "    for n in nodes:\n",
    "        uid = str(id(n))\n",
    "        node_label = '{%s | data %.4f | gard %.4f}' % (n.label, n.data, n.grad)\n",
    "        \n",
    "        node_attrs = {\n",
    "            'label': node_label,\n",
    "            'shape': 'record',\n",
    "            'color': 'blue',      # Change the node border color to blue\n",
    "            'fontcolor': 'green', # Change the font color of the label to green\n",
    "            'bgcolor': 'lightyellow'  # Change the background color to light yellow\n",
    "        }\n",
    "        \n",
    "        # for any value in the graph, create a rectangular ('record') node for it\n",
    "        dot.node(name=uid, **node_attrs)\n",
    "        \n",
    "        if n._op:\n",
    "            # if this value is a result of some sort of operation, crate an op node for it\n",
    "            # Customize operation node attributes here\n",
    "            op_node_attrs = {\n",
    "                'label': n._op,\n",
    "                'shape': 'ellipse',   # Change the shape to an ellipse (oval)\n",
    "                'color': 'red',       # Change the node border color to red\n",
    "                'fontcolor': 'black', # Change the font color of the label to black\n",
    "                'style': 'filled',    # Fill the oval node with color\n",
    "                'fillcolor': 'lightblue'  # Set the fill color of the oval node\n",
    "            }\n",
    "            \n",
    "            dot.node(name=uid + n._op, **op_node_attrs)\n",
    "            dot.edge(uid + n._op, uid, color='purple')  # Change the color of the edge leaving the operation node\n",
    "            \n",
    "    for n1, n2 in edges:\n",
    "        # Customize edge attributes here\n",
    "        edge_attrs = {\n",
    "            'color': 'red',  # Change the edge color to red\n",
    "            'fontcolor': 'blue'  # Change the font color of the edge label to blue\n",
    "        }\n",
    "        # connect n1 to the top node of n2\n",
    "        dot.edge(str(id(n1)), str(id(n2)) + n2._op, **edge_attrs)\n",
    "        \n",
    "    return dot\n"
   ]
  },
  {
   "cell_type": "code",
   "execution_count": null,
   "id": "839b03b2",
   "metadata": {},
   "outputs": [],
   "source": [
    "draw_dot(L)"
   ]
  },
  {
   "cell_type": "code",
   "execution_count": null,
   "id": "9cd5d86d",
   "metadata": {},
   "outputs": [],
   "source": [
    "# 5\n",
    "a.data += 0.01 * a.grad\n",
    "b.data += 0.01 * b.grad\n",
    "c.data += 0.01 * c.grad\n",
    "f.data += 0.01 * f.grad\n",
    "\n",
    "\n",
    "e = a*b\n",
    "d = e + c\n",
    "L = d * f\n",
    "print(L.data)"
   ]
  },
  {
   "cell_type": "code",
   "execution_count": null,
   "id": "09faa850",
   "metadata": {},
   "outputs": [],
   "source": [
    "a.data"
   ]
  },
  {
   "cell_type": "code",
   "execution_count": null,
   "id": "e10a5d01",
   "metadata": {},
   "outputs": [],
   "source": [
    "# 4\n",
    "c.grad = -2.0 * 1\n",
    "e.grad = -2.0 * 1\n",
    "# b grad -> -4.0 (2 * -2)\n",
    "# a grad -> 6.0 (-3 * -2)\n",
    "b.grad = -4.0\n",
    "a.grad = 6.0"
   ]
  },
  {
   "cell_type": "code",
   "execution_count": null,
   "id": "83c16f69",
   "metadata": {},
   "outputs": [],
   "source": [
    "#3\n",
    "dL / de = -2.0\n",
    "\n",
    "dL / de "
   ]
  },
  {
   "cell_type": "code",
   "execution_count": null,
   "id": "e4672aaf",
   "metadata": {},
   "outputs": [],
   "source": [
    "#2\n",
    "dl / dc = ?\n",
    "\n",
    "dd / dc = ? 1.0  dd / de = ? 1.0\n",
    "d = c + e\n",
    "\n",
    "dl / dc = ? \n",
    "KNOW:\n",
    "dl / dd (-2.0)\n",
    "dd / dc (1.0)\n",
    "dl / dc = dl / de * dd / dc"
   ]
  },
  {
   "cell_type": "code",
   "execution_count": null,
   "id": "9c454a58",
   "metadata": {},
   "outputs": [],
   "source": [
    "#1\n",
    "L = d * f\n",
    "\n",
    "dL/dd = ? f\n",
    "\n",
    "(f(x+h) - f(x)) / h\n",
    "((d+h)*f - d*f) / h\n",
    "(d*f + h*f - d*f) / h\n",
    "(h*f) / h\n",
    "f"
   ]
  },
  {
   "cell_type": "code",
   "execution_count": null,
   "id": "ff6c867b",
   "metadata": {},
   "outputs": [],
   "source": [
    "L.grad = 1.0"
   ]
  },
  {
   "cell_type": "code",
   "execution_count": null,
   "id": "241ce189",
   "metadata": {},
   "outputs": [],
   "source": [
    "def lol():\n",
    "    h = 0.001\n",
    "    a = Value(2.0, label = \"a\")\n",
    "    b = Value(-3.0, label = \"b\")\n",
    "    c = Value(10.0, label = \"c\")\n",
    "    e = a*b; e.label = 'e'\n",
    "    d = e + c; d.label = 'd'\n",
    "    f = Value(-2.0, label = 'f')\n",
    "    L = d * f; L.label = 'L'\n",
    "    L1 = L.data\n",
    "    \n",
    "    a = Value(2.0, label = \"a\")\n",
    "    b = Value(-3.0, label = \"b\")\n",
    "    b.data += h\n",
    "    c = Value(10.0, label = \"c\")\n",
    "    e = a*b; e.label = 'e'\n",
    "    d = e + c; d.label = 'd'\n",
    "    f = Value(-2.0, label = 'f')\n",
    "    L = d * f; L.label = 'L'\n",
    "    L2 = L.data\n",
    "    \n",
    "    print(L1, L2)\n",
    "    print((L2 - L1)/ h)\n",
    "    \n",
    "#lol() # derivative of L in respect to whatever was changed"
   ]
  },
  {
   "cell_type": "code",
   "execution_count": null,
   "id": "61e73efd",
   "metadata": {},
   "outputs": [],
   "source": [
    "lol() # derivative of L in respect to whatever was changed"
   ]
  },
  {
   "cell_type": "code",
   "execution_count": null,
   "id": "35b0cb10",
   "metadata": {},
   "outputs": [],
   "source": [
    "#--"
   ]
  },
  {
   "cell_type": "code",
   "execution_count": null,
   "id": "be017155",
   "metadata": {},
   "outputs": [],
   "source": [
    "plt.plot(np.arange(-5, 5, 0.2), np.tanh(np.arange(-5, 5, 0.2))); plt.grid()"
   ]
  },
  {
   "cell_type": "code",
   "execution_count": null,
   "id": "fe816dce",
   "metadata": {},
   "outputs": [],
   "source": [
    "x1 = Value(2.0, label='x1')\n",
    "x2 = Value(0.0, label='x2')\n",
    "\n",
    "w1 = Value(-3.0, label='w1')\n",
    "w2 = Value(1.0, label='w2')\n",
    "\n",
    "b = Value(6.8813735870195432, label='b')\n",
    "\n",
    "x1w1 = x1 * w1; x1w1.label = 'x1*w1'\n",
    "x2w2 = x2 * w2; x2w2.label = 'x2*w2'\n",
    "x1w1x2w2 = x1w1 + x2w2; x1w1x2w2.label = 'x1*w1 + x2*w2'\n",
    "n = x1w1x2w2 + b; n.label = 'n'\n",
    "o = n.tanh(); o.label = 'o'"
   ]
  },
  {
   "cell_type": "code",
   "execution_count": null,
   "id": "8a11e7aa",
   "metadata": {},
   "outputs": [],
   "source": [
    "o.backward()"
   ]
  },
  {
   "cell_type": "code",
   "execution_count": null,
   "id": "2a665337",
   "metadata": {},
   "outputs": [],
   "source": [
    "draw_dot(o)"
   ]
  },
  {
   "cell_type": "code",
   "execution_count": null,
   "id": "79fdbbed",
   "metadata": {},
   "outputs": [],
   "source": [
    "#1\n",
    "o.grad = 1.0"
   ]
  },
  {
   "cell_type": "code",
   "execution_count": null,
   "id": "ec2a238b",
   "metadata": {},
   "outputs": [],
   "source": [
    "#2\n",
    "# o = tanh(n)\n",
    "# do / dn = 1 - tanh(n)**2\n",
    "# do / dn = 1 - o**2\n",
    "print(1 - o.data**2)\n",
    "n.grad = 0.5\n"
   ]
  },
  {
   "cell_type": "code",
   "execution_count": null,
   "id": "00dd79d7",
   "metadata": {},
   "outputs": [],
   "source": [
    "#3\n",
    "x1w1x2w2.grad = 0.5\n",
    "b.grad = 0.5"
   ]
  },
  {
   "cell_type": "code",
   "execution_count": null,
   "id": "b09dceb3",
   "metadata": {},
   "outputs": [],
   "source": [
    "#4\n",
    "x1w1.grad = 0.5\n",
    "x2w2.grad = 0.5"
   ]
  },
  {
   "cell_type": "code",
   "execution_count": null,
   "id": "4cea32f4",
   "metadata": {},
   "outputs": [],
   "source": [
    "#5\n",
    "w2.grad = x2.data * x2w2.grad\n",
    "x2.grad = w2.data * x2w2.grad\n",
    "x1.grad = w1.data * x1w1.grad\n",
    "w1.grad = x1.data * x1w1.grad"
   ]
  },
  {
   "cell_type": "code",
   "execution_count": null,
   "id": "bdaf1f77",
   "metadata": {},
   "outputs": [],
   "source": [
    "#6\n",
    "o.grad = 1.0\n",
    "o._backward()"
   ]
  },
  {
   "cell_type": "code",
   "execution_count": null,
   "id": "d7e0eba3",
   "metadata": {},
   "outputs": [],
   "source": [
    "n._backward()"
   ]
  },
  {
   "cell_type": "code",
   "execution_count": null,
   "id": "d2931887",
   "metadata": {},
   "outputs": [],
   "source": [
    "b._backward() # nothing will happen. lambda: None"
   ]
  },
  {
   "cell_type": "code",
   "execution_count": null,
   "id": "453f8015",
   "metadata": {},
   "outputs": [],
   "source": [
    "x1w1x2w2._backward()"
   ]
  },
  {
   "cell_type": "code",
   "execution_count": null,
   "id": "55b119d7",
   "metadata": {},
   "outputs": [],
   "source": [
    "x2w2._backward()\n",
    "x1w1._backward()"
   ]
  },
  {
   "cell_type": "code",
   "execution_count": null,
   "id": "978423ca",
   "metadata": {},
   "outputs": [],
   "source": [
    "# Next implement topological sort\n",
    "topo = []\n",
    "visited = set()\n",
    "def built_topo(v):\n",
    "    if v not in visited:\n",
    "        visited.add(v)\n",
    "        for kid in v._prev:\n",
    "            built_topo(kid)\n",
    "        topo.append(v)\n",
    "built_topo(o)\n",
    "topo"
   ]
  },
  {
   "cell_type": "code",
   "execution_count": null,
   "id": "d46d9afb",
   "metadata": {},
   "outputs": [],
   "source": [
    "o.grad = 1.0"
   ]
  },
  {
   "cell_type": "code",
   "execution_count": null,
   "id": "e600bcff",
   "metadata": {},
   "outputs": [],
   "source": [
    "len(topo)"
   ]
  },
  {
   "cell_type": "code",
   "execution_count": null,
   "id": "03d75ef6",
   "metadata": {},
   "outputs": [],
   "source": [
    "for node in reversed(topo):\n",
    "    node._backward()"
   ]
  },
  {
   "cell_type": "code",
   "execution_count": null,
   "id": "fe895536",
   "metadata": {},
   "outputs": [],
   "source": [
    "# automated\n",
    "o.backward()"
   ]
  },
  {
   "cell_type": "code",
   "execution_count": null,
   "id": "05bb6595",
   "metadata": {},
   "outputs": [],
   "source": [
    "# multivariable case chain rule"
   ]
  },
  {
   "cell_type": "code",
   "execution_count": null,
   "id": "9ff64bf4",
   "metadata": {},
   "outputs": [],
   "source": [
    "a = Value(3.0, label = 'a')\n",
    "b = a + a; b.label = 'b'\n",
    "b.backward()\n",
    "draw_dot(b)"
   ]
  },
  {
   "cell_type": "code",
   "execution_count": null,
   "id": "20309555",
   "metadata": {},
   "outputs": [],
   "source": [
    "x1 = Value(2.0, label='x1')\n",
    "x2 = Value(0.0, label='x2')\n",
    "\n",
    "w1 = Value(-3.0, label='w1')\n",
    "w2 = Value(1.0, label='w2')\n",
    "\n",
    "b = Value(6.8813735870195432, label='b')\n",
    "\n",
    "x1w1 = x1 * w1; x1w1.label = 'x1*w1'\n",
    "x2w2 = x2 * w2; x2w2.label = 'x2*w2'\n",
    "x1w1x2w2 = x1w1 + x2w2; x1w1x2w2.label = 'x1*w1 + x2*w2'\n",
    "n = x1w1x2w2 + b; n.label = 'n'\n",
    "# -\n",
    "e = (2*n).exp(); e.label = 'e'\n",
    "o = (e - 1) / (e + 1)\n",
    "# -\n",
    "o.label = 'o'\n",
    "o.backward()\n",
    "draw_dot(o)"
   ]
  },
  {
   "cell_type": "code",
   "execution_count": null,
   "id": "7feeeed6",
   "metadata": {},
   "outputs": [],
   "source": [
    "import random"
   ]
  },
  {
   "cell_type": "code",
   "execution_count": null,
   "id": "9e22efd2",
   "metadata": {},
   "outputs": [],
   "source": [
    "#"
   ]
  },
  {
   "cell_type": "code",
   "execution_count": 115,
   "id": "76aa9314",
   "metadata": {},
   "outputs": [],
   "source": [
    "class Neuron:\n",
    "    def __init__(self, n_inputs):\n",
    "        self.w = [Value(random.uniform(-1, 1), label='w') for _ in range(n_inputs)]\n",
    "        self.b = Value(random.uniform(-1, 1), label='b')\n",
    "        \n",
    "    def __call__(self, x):\n",
    "        act = sum((wi*xi for wi, xi in zip(self.w, x)), self.b)\n",
    "        return act.tanh()\n",
    "\n",
    "    def parameters(self):\n",
    "        return self.w + [self.b]\n",
    "\n",
    "class Layer:\n",
    "    def __init__(self, n_input, n_output):\n",
    "        self.neurons = [Neuron(n_input) for _ in range(n_output)]\n",
    "        \n",
    "    def __call__(self, x):\n",
    "        outs = [n(x) for n in self.neurons]\n",
    "        return outs[0] if len(outs) == 1 else outs\n",
    "    \n",
    "    def parameters(self):\n",
    "        return [p for n in self.neurons for p in n.parameters()]\n",
    "    \n",
    "class MLP:\n",
    "    def __init__(self, n_inputs: float, n_outputs: list[int]):\n",
    "        arch = [n_inputs] + n_outputs\n",
    "        self.layers = [Layer(arch[i], arch[i+1]) for i in range(len(n_outputs))]\n",
    "        \n",
    "    def __call__(self, x):\n",
    "        for layer in self.layers:\n",
    "            x = layer(x)\n",
    "        return x\n",
    "    \n",
    "    def parameters(self):\n",
    "        return [p for l in self.layers for n in l.neurons for p in n.parameters()]"
   ]
  },
  {
   "cell_type": "code",
   "execution_count": null,
   "id": "7289d215",
   "metadata": {},
   "outputs": [],
   "source": [
    "x = [2.0, 3.0]\n",
    "n = Neuron(2)\n",
    "n(x)"
   ]
  },
  {
   "cell_type": "code",
   "execution_count": null,
   "id": "f8dc0df7",
   "metadata": {},
   "outputs": [],
   "source": [
    "x = [2.0, 3.0]\n",
    "l = Layer(2, 3)\n",
    "l(x)"
   ]
  },
  {
   "cell_type": "code",
   "execution_count": 145,
   "id": "ab63d629",
   "metadata": {},
   "outputs": [
    {
     "data": {
      "text/plain": [
       "Value(data = -0.9874581642608983)"
      ]
     },
     "execution_count": 145,
     "metadata": {},
     "output_type": "execute_result"
    }
   ],
   "source": [
    "x = [2.0, 3.0, -1.0]\n",
    "network = MLP(3, [4, 4, 1])\n",
    "network(x)"
   ]
  },
  {
   "cell_type": "code",
   "execution_count": 118,
   "id": "e5c2a84e",
   "metadata": {},
   "outputs": [
    {
     "data": {
      "text/plain": [
       "41"
      ]
     },
     "execution_count": 118,
     "metadata": {},
     "output_type": "execute_result"
    }
   ],
   "source": [
    "network.parameters()\n",
    "len(network.parameters())"
   ]
  },
  {
   "cell_type": "code",
   "execution_count": null,
   "id": "99384d52",
   "metadata": {},
   "outputs": [],
   "source": [
    "print(network.layers[0].neurons[0].w[0])\n",
    "network.layers[0].neurons[0].w[0].grad"
   ]
  },
  {
   "cell_type": "code",
   "execution_count": null,
   "id": "5d696904",
   "metadata": {},
   "outputs": [],
   "source": [
    "draw_dot(network(x))"
   ]
  },
  {
   "cell_type": "code",
   "execution_count": 148,
   "id": "33fd7c97",
   "metadata": {},
   "outputs": [],
   "source": [
    "network = MLP(3, [4, 4, 1])\n",
    "xs = [\n",
    "    [2.0, 3.0, -1.0],\n",
    "    [3.0, -1.0, 0.5],\n",
    "    [0.5, 1.0, 1.0],\n",
    "    [1.0, 1.0, -1.0]\n",
    "]\n",
    "ys = [1.0, -1.0, -1.0, 1.0]\n",
    "\n"
   ]
  },
  {
   "cell_type": "code",
   "execution_count": 149,
   "id": "e2dad3ee",
   "metadata": {},
   "outputs": [
    {
     "name": "stdout",
     "output_type": "stream",
     "text": [
      "0 1.670902273742505\n",
      "1 1.0417524034784524\n",
      "2 0.3670009041860463\n",
      "3 0.07287908735901233\n",
      "4 0.011495365596774516\n",
      "5 0.0019455755871336466\n",
      "6 0.0004214300417017214\n",
      "7 0.00012343856795255407\n",
      "8 4.554633940624859e-05\n",
      "9 1.9356518663191815e-05\n",
      "10 8.962879672776089e-06\n",
      "11 4.388911568731498e-06\n",
      "12 2.2337676487033635e-06\n",
      "13 1.1685341158560794e-06\n",
      "14 6.23515709088498e-07\n",
      "15 3.37557277702208e-07\n",
      "16 1.847378812848098e-07\n",
      "17 1.0195901629173476e-07\n",
      "18 5.6666139503974056e-08\n",
      "19 3.169195512466654e-08\n"
     ]
    }
   ],
   "source": [
    "for k in range(20):\n",
    "    ypred = [network(x) for x in xs]\n",
    "    loss = sum((yout - ygt)**2 for ygt, yout in zip(ys, ypred))\n",
    "    \n",
    "    loss.backward()\n",
    "    \n",
    "    for p in network.parameters():\n",
    "        p.data -= p.grad * 0.05\n",
    "        \n",
    "    print(k, loss.data)\n"
   ]
  },
  {
   "cell_type": "code",
   "execution_count": null,
   "id": "647b0e41",
   "metadata": {},
   "outputs": [],
   "source": [
    "draw_dot(loss)"
   ]
  },
  {
   "cell_type": "code",
   "execution_count": 150,
   "id": "055cfbc9",
   "metadata": {},
   "outputs": [
    {
     "data": {
      "text/plain": [
       "[Value(data = 0.9998698339772941),\n",
       " Value(data = -0.999999902942694),\n",
       " Value(data = -0.9999999140296185),\n",
       " Value(data = 0.9998785555894799)]"
      ]
     },
     "execution_count": 150,
     "metadata": {},
     "output_type": "execute_result"
    }
   ],
   "source": [
    "ypred"
   ]
  },
  {
   "cell_type": "code",
   "execution_count": null,
   "id": "2eff87c6",
   "metadata": {},
   "outputs": [],
   "source": []
  },
  {
   "cell_type": "code",
   "execution_count": null,
   "id": "ace9b024",
   "metadata": {},
   "outputs": [],
   "source": []
  },
  {
   "cell_type": "code",
   "execution_count": null,
   "id": "52395e06",
   "metadata": {},
   "outputs": [],
   "source": []
  },
  {
   "cell_type": "code",
   "execution_count": null,
   "id": "67a45b7e",
   "metadata": {},
   "outputs": [],
   "source": []
  },
  {
   "cell_type": "code",
   "execution_count": null,
   "id": "0adea229",
   "metadata": {},
   "outputs": [],
   "source": []
  }
 ],
 "metadata": {
  "kernelspec": {
   "display_name": "Python 3 (ipykernel)",
   "language": "python",
   "name": "python3"
  },
  "language_info": {
   "codemirror_mode": {
    "name": "ipython",
    "version": 3
   },
   "file_extension": ".py",
   "mimetype": "text/x-python",
   "name": "python",
   "nbconvert_exporter": "python",
   "pygments_lexer": "ipython3",
   "version": "3.10.13"
  }
 },
 "nbformat": 4,
 "nbformat_minor": 5
}
